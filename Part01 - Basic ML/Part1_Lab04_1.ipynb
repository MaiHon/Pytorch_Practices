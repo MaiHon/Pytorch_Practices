{
 "cells": [
  {
   "cell_type": "code",
   "execution_count": 1,
   "metadata": {},
   "outputs": [],
   "source": [
    "import torch"
   ]
  },
  {
   "cell_type": "code",
   "execution_count": 2,
   "metadata": {},
   "outputs": [],
   "source": [
    "x_train = torch.FloatTensor([[73, 80, 75],\n",
    "                             [93, 88, 93],\n",
    "                             [89, 91, 90],\n",
    "                             [96, 98, 100],\n",
    "                             [73, 66, 70]])\n",
    "y_train = torch.FloatTensor([[152], [185], [180], [196], [142]])"
   ]
  },
  {
   "cell_type": "code",
   "execution_count": 3,
   "metadata": {},
   "outputs": [],
   "source": [
    "W = torch.zeros((3, 1), requires_grad=True)\n",
    "b = torch.zeros(1, requires_grad=True)\n",
    "\n",
    "optimizer = torch.optim.SGD([W, b], lr=1e-5)"
   ]
  },
  {
   "cell_type": "code",
   "execution_count": 4,
   "metadata": {},
   "outputs": [
    {
     "name": "stdout",
     "output_type": "stream",
     "text": [
      "Epoch:    0/40\n",
      "Hypothesis: tensor([0., 0., 0., 0., 0.]), Cost: 29661.800781\n",
      "Epoch:    1/40\n",
      "Hypothesis: tensor([67.2578, 80.8397, 79.6523, 86.7394, 61.6605]), Cost: 9298.520508\n",
      "Epoch:    2/40\n",
      "Hypothesis: tensor([104.9128, 126.0990, 124.2466, 135.3015,  96.1821]), Cost: 2915.712646\n",
      "Epoch:    3/40\n",
      "Hypothesis: tensor([125.9942, 151.4381, 149.2133, 162.4896, 115.5097]), Cost: 915.040527\n",
      "Epoch:    4/40\n",
      "Hypothesis: tensor([137.7968, 165.6247, 163.1911, 177.7112, 126.3307]), Cost: 287.936005\n",
      "Epoch:    5/40\n",
      "Hypothesis: tensor([144.4044, 173.5674, 171.0168, 186.2332, 132.3891]), Cost: 91.371017\n",
      "Epoch:    6/40\n",
      "Hypothesis: tensor([148.1035, 178.0144, 175.3980, 191.0042, 135.7812]), Cost: 29.758139\n",
      "Epoch:    7/40\n",
      "Hypothesis: tensor([150.1744, 180.5042, 177.8508, 193.6753, 137.6805]), Cost: 10.445305\n",
      "Epoch:    8/40\n",
      "Hypothesis: tensor([151.3336, 181.8983, 179.2240, 195.1707, 138.7440]), Cost: 4.391228\n",
      "Epoch:    9/40\n",
      "Hypothesis: tensor([151.9824, 182.6789, 179.9928, 196.0079, 139.3396]), Cost: 2.493135\n",
      "Epoch:   10/40\n",
      "Hypothesis: tensor([152.3454, 183.1161, 180.4231, 196.4765, 139.6732]), Cost: 1.897688\n",
      "Epoch:   11/40\n",
      "Hypothesis: tensor([152.5485, 183.3610, 180.6640, 196.7389, 139.8602]), Cost: 1.710541\n",
      "Epoch:   12/40\n",
      "Hypothesis: tensor([152.6620, 183.4982, 180.7988, 196.8857, 139.9651]), Cost: 1.651413\n",
      "Epoch:   13/40\n",
      "Hypothesis: tensor([152.7253, 183.5752, 180.8742, 196.9678, 140.0240]), Cost: 1.632387\n",
      "Epoch:   14/40\n",
      "Hypothesis: tensor([152.7606, 183.6184, 180.9164, 197.0138, 140.0571]), Cost: 1.625923\n",
      "Epoch:   15/40\n",
      "Hypothesis: tensor([152.7802, 183.6427, 180.9399, 197.0395, 140.0759]), Cost: 1.623412\n",
      "Epoch:   16/40\n",
      "Hypothesis: tensor([152.7909, 183.6565, 180.9530, 197.0538, 140.0865]), Cost: 1.622141\n",
      "Epoch:   17/40\n",
      "Hypothesis: tensor([152.7968, 183.6643, 180.9603, 197.0618, 140.0927]), Cost: 1.621253\n",
      "Epoch:   18/40\n",
      "Hypothesis: tensor([152.7999, 183.6688, 180.9644, 197.0662, 140.0963]), Cost: 1.620500\n",
      "Epoch:   19/40\n",
      "Hypothesis: tensor([152.8014, 183.6715, 180.9666, 197.0686, 140.0985]), Cost: 1.619770\n",
      "Epoch:   20/40\n",
      "Hypothesis: tensor([152.8020, 183.6731, 180.9677, 197.0699, 140.1000]), Cost: 1.619033\n",
      "Epoch:   21/40\n",
      "Hypothesis: tensor([152.8022, 183.6741, 180.9683, 197.0706, 140.1009]), Cost: 1.618346\n",
      "Epoch:   22/40\n",
      "Hypothesis: tensor([152.8021, 183.6749, 180.9686, 197.0709, 140.1016]), Cost: 1.617637\n",
      "Epoch:   23/40\n",
      "Hypothesis: tensor([152.8019, 183.6754, 180.9687, 197.0710, 140.1022]), Cost: 1.616930\n",
      "Epoch:   24/40\n",
      "Hypothesis: tensor([152.8016, 183.6758, 180.9687, 197.0711, 140.1027]), Cost: 1.616221\n",
      "Epoch:   25/40\n",
      "Hypothesis: tensor([152.8012, 183.6762, 180.9686, 197.0710, 140.1032]), Cost: 1.615508\n",
      "Epoch:   26/40\n",
      "Hypothesis: tensor([152.8008, 183.6765, 180.9686, 197.0710, 140.1036]), Cost: 1.614815\n",
      "Epoch:   27/40\n",
      "Hypothesis: tensor([152.8004, 183.6768, 180.9684, 197.0709, 140.1041]), Cost: 1.614109\n",
      "Epoch:   28/40\n",
      "Hypothesis: tensor([152.8000, 183.6772, 180.9683, 197.0707, 140.1045]), Cost: 1.613387\n",
      "Epoch:   29/40\n",
      "Hypothesis: tensor([152.7995, 183.6775, 180.9682, 197.0706, 140.1049]), Cost: 1.612701\n",
      "Epoch:   30/40\n",
      "Hypothesis: tensor([152.7991, 183.6778, 180.9681, 197.0705, 140.1053]), Cost: 1.611987\n",
      "Epoch:   31/40\n",
      "Hypothesis: tensor([152.7987, 183.6781, 180.9679, 197.0704, 140.1057]), Cost: 1.611289\n",
      "Epoch:   32/40\n",
      "Hypothesis: tensor([152.7982, 183.6784, 180.9678, 197.0703, 140.1061]), Cost: 1.610588\n",
      "Epoch:   33/40\n",
      "Hypothesis: tensor([152.7978, 183.6787, 180.9677, 197.0702, 140.1065]), Cost: 1.609874\n",
      "Epoch:   34/40\n",
      "Hypothesis: tensor([152.7974, 183.6790, 180.9676, 197.0701, 140.1069]), Cost: 1.609183\n",
      "Epoch:   35/40\n",
      "Hypothesis: tensor([152.7969, 183.6793, 180.9674, 197.0700, 140.1073]), Cost: 1.608466\n",
      "Epoch:   36/40\n",
      "Hypothesis: tensor([152.7965, 183.6796, 180.9673, 197.0699, 140.1078]), Cost: 1.607776\n",
      "Epoch:   37/40\n",
      "Hypothesis: tensor([152.7961, 183.6799, 180.9672, 197.0698, 140.1082]), Cost: 1.607080\n",
      "Epoch:   38/40\n",
      "Hypothesis: tensor([152.7957, 183.6802, 180.9670, 197.0697, 140.1086]), Cost: 1.606384\n",
      "Epoch:   39/40\n",
      "Hypothesis: tensor([152.7952, 183.6805, 180.9669, 197.0695, 140.1090]), Cost: 1.605665\n",
      "Epoch:   40/40\n",
      "Hypothesis: tensor([152.7948, 183.6807, 180.9668, 197.0694, 140.1094]), Cost: 1.604974\n"
     ]
    }
   ],
   "source": [
    "nb_epochs = 40\n",
    "for epoch in range(nb_epochs + 1):\n",
    "    hypothesis = x_train.matmul(W) + b\n",
    "    cost = torch.mean((hypothesis - y_train)**2)\n",
    "    \n",
    "    optimizer.zero_grad()\n",
    "    cost.backward()\n",
    "    optimizer.step()\n",
    "    \n",
    "    print(\"Epoch: {:4d}/{}\\nHypothesis: {}, Cost: {:6f}\".format(\n",
    "        epoch, nb_epochs, hypothesis.squeeze().detach(), cost.item()\n",
    "    ))"
   ]
  },
  {
   "cell_type": "code",
   "execution_count": null,
   "metadata": {},
   "outputs": [],
   "source": []
  }
 ],
 "metadata": {
  "kernelspec": {
   "display_name": "Pytorch",
   "language": "python",
   "name": "pytorch"
  },
  "language_info": {
   "codemirror_mode": {
    "name": "ipython",
    "version": 3
   },
   "file_extension": ".py",
   "mimetype": "text/x-python",
   "name": "python",
   "nbconvert_exporter": "python",
   "pygments_lexer": "ipython3",
   "version": "3.7.6"
  }
 },
 "nbformat": 4,
 "nbformat_minor": 4
}
