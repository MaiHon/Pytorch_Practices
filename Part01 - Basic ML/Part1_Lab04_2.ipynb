{
 "cells": [
  {
   "cell_type": "code",
   "execution_count": 1,
   "metadata": {},
   "outputs": [],
   "source": [
    "from torch.utils.data import Dataset"
   ]
  },
  {
   "cell_type": "markdown",
   "metadata": {},
   "source": [
    "### Dataset\n",
    " - __getitem__: idx를 입력받아 출력하는 메소드\n",
    " - __len__: 데이터셋의 크기출력"
   ]
  },
  {
   "cell_type": "code",
   "execution_count": 2,
   "metadata": {},
   "outputs": [],
   "source": [
    "class CustomDataset(Dataset):\n",
    "    def __init__(self):\n",
    "        self.x_data = [[73, 80, 75],\n",
    "                       [93, 88, 93],\n",
    "                       [89, 91, 90],\n",
    "                       [96, 98, 100],\n",
    "                       [73, 66, 70]]\n",
    "        self.y_data = [[152], [185], [180], [196], [142]]\n",
    "    \n",
    "    def __len__(self):\n",
    "        return len(self.x_data)\n",
    "    \n",
    "    def __getitem__(self, idx):\n",
    "        x = torch.FloatTensor(self.x_data[idx])\n",
    "        y = torch.FloatTensor(self.y_data[idx])\n",
    "        \n",
    "        return x, y\n",
    "\n",
    "dataset = CustomDataset()"
   ]
  },
  {
   "cell_type": "code",
   "execution_count": 3,
   "metadata": {},
   "outputs": [],
   "source": [
    "from torch.utils.data import DataLoader\n",
    "\n",
    "dataloader = DataLoader(\n",
    "    dataset,\n",
    "    batch_size=2,\n",
    "    shuffle=True)"
   ]
  },
  {
   "cell_type": "code",
   "execution_count": 4,
   "metadata": {},
   "outputs": [],
   "source": [
    "import torch\n",
    "import torch.nn as nn\n",
    "import torch.nn.functional as F\n",
    "\n",
    "class Model(nn.Module):\n",
    "    def __init__(self):\n",
    "        super().__init__()\n",
    "        self.linear = nn.Linear(3, 1)\n",
    "        \n",
    "    def forward(self, x):\n",
    "        return self.linear(x)\n",
    "\n",
    "model = Model()    "
   ]
  },
  {
   "cell_type": "code",
   "execution_count": 5,
   "metadata": {},
   "outputs": [],
   "source": [
    "optimizer = torch.optim.SGD(model.parameters(), lr=1e-5)"
   ]
  },
  {
   "cell_type": "code",
   "execution_count": 6,
   "metadata": {},
   "outputs": [
    {
     "name": "stdout",
     "output_type": "stream",
     "text": [
      "Epoch:    0/20 Batch: 1/3 Cost: 53086.433594\n",
      "Epoch:    0/20 Batch: 2/3 Cost: 21533.718750\n",
      "Epoch:    0/20 Batch: 3/3 Cost: 9476.258789\n",
      "Epoch:    1/20 Batch: 1/3 Cost: 1007.425659\n",
      "Epoch:    1/20 Batch: 2/3 Cost: 691.780640\n",
      "Epoch:    1/20 Batch: 3/3 Cost: 252.229324\n",
      "Epoch:    2/20 Batch: 1/3 Cost: 42.027020\n",
      "Epoch:    2/20 Batch: 2/3 Cost: 0.589465\n",
      "Epoch:    2/20 Batch: 3/3 Cost: 23.696644\n",
      "Epoch:    3/20 Batch: 1/3 Cost: 3.281034\n",
      "Epoch:    3/20 Batch: 2/3 Cost: 6.802295\n",
      "Epoch:    3/20 Batch: 3/3 Cost: 11.569299\n",
      "Epoch:    4/20 Batch: 1/3 Cost: 8.827618\n",
      "Epoch:    4/20 Batch: 2/3 Cost: 10.106613\n",
      "Epoch:    4/20 Batch: 3/3 Cost: 7.050882\n",
      "Epoch:    5/20 Batch: 1/3 Cost: 8.859639\n",
      "Epoch:    5/20 Batch: 2/3 Cost: 1.572121\n",
      "Epoch:    5/20 Batch: 3/3 Cost: 11.171380\n",
      "Epoch:    6/20 Batch: 1/3 Cost: 9.233130\n",
      "Epoch:    6/20 Batch: 2/3 Cost: 6.356397\n",
      "Epoch:    6/20 Batch: 3/3 Cost: 6.343733\n",
      "Epoch:    7/20 Batch: 1/3 Cost: 11.556299\n",
      "Epoch:    7/20 Batch: 2/3 Cost: 4.253504\n",
      "Epoch:    7/20 Batch: 3/3 Cost: 8.858290\n",
      "Epoch:    8/20 Batch: 1/3 Cost: 10.934649\n",
      "Epoch:    8/20 Batch: 2/3 Cost: 6.424108\n",
      "Epoch:    8/20 Batch: 3/3 Cost: 5.945275\n",
      "Epoch:    9/20 Batch: 1/3 Cost: 10.710133\n",
      "Epoch:    9/20 Batch: 2/3 Cost: 6.432082\n",
      "Epoch:    9/20 Batch: 3/3 Cost: 5.990304\n",
      "Epoch:   10/20 Batch: 1/3 Cost: 8.114507\n",
      "Epoch:   10/20 Batch: 2/3 Cost: 5.075470\n",
      "Epoch:   10/20 Batch: 3/3 Cost: 11.474412\n",
      "Epoch:   11/20 Batch: 1/3 Cost: 5.268494\n",
      "Epoch:   11/20 Batch: 2/3 Cost: 4.480007\n",
      "Epoch:   11/20 Batch: 3/3 Cost: 10.776918\n",
      "Epoch:   12/20 Batch: 1/3 Cost: 2.735465\n",
      "Epoch:   12/20 Batch: 2/3 Cost: 16.490120\n",
      "Epoch:   12/20 Batch: 3/3 Cost: 2.465019\n",
      "Epoch:   13/20 Batch: 1/3 Cost: 0.933856\n",
      "Epoch:   13/20 Batch: 2/3 Cost: 9.285213\n",
      "Epoch:   13/20 Batch: 3/3 Cost: 9.812220\n",
      "Epoch:   14/20 Batch: 1/3 Cost: 7.472938\n",
      "Epoch:   14/20 Batch: 2/3 Cost: 5.165671\n",
      "Epoch:   14/20 Batch: 3/3 Cost: 5.145025\n",
      "Epoch:   15/20 Batch: 1/3 Cost: 4.721954\n",
      "Epoch:   15/20 Batch: 2/3 Cost: 5.473451\n",
      "Epoch:   15/20 Batch: 3/3 Cost: 14.586511\n",
      "Epoch:   16/20 Batch: 1/3 Cost: 6.024018\n",
      "Epoch:   16/20 Batch: 2/3 Cost: 3.463433\n",
      "Epoch:   16/20 Batch: 3/3 Cost: 10.216166\n",
      "Epoch:   17/20 Batch: 1/3 Cost: 9.030430\n",
      "Epoch:   17/20 Batch: 2/3 Cost: 0.852758\n",
      "Epoch:   17/20 Batch: 3/3 Cost: 12.001548\n",
      "Epoch:   18/20 Batch: 1/3 Cost: 8.625322\n",
      "Epoch:   18/20 Batch: 2/3 Cost: 6.314142\n",
      "Epoch:   18/20 Batch: 3/3 Cost: 6.351421\n",
      "Epoch:   19/20 Batch: 1/3 Cost: 3.914560\n",
      "Epoch:   19/20 Batch: 2/3 Cost: 8.953901\n",
      "Epoch:   19/20 Batch: 3/3 Cost: 5.147102\n",
      "Epoch:   20/20 Batch: 1/3 Cost: 8.722637\n",
      "Epoch:   20/20 Batch: 2/3 Cost: 4.294037\n",
      "Epoch:   20/20 Batch: 3/3 Cost: 3.298944\n"
     ]
    }
   ],
   "source": [
    "nb_epochs = 20\n",
    "for epoch in range(nb_epochs + 1):\n",
    "    for batch_idx, samples in enumerate(dataloader):\n",
    "        x_train, y_train = samples\n",
    "        \n",
    "        prediction = model(x_train)\n",
    "        cost = F.mse_loss(prediction, y_train)\n",
    "        \n",
    "        optimizer.zero_grad()\n",
    "        cost.backward()\n",
    "        optimizer.step()\n",
    "        \n",
    "        print(\"Epoch: {:4d}/{} Batch: {}/{} Cost: {:.6f}\".format(\n",
    "            epoch, nb_epochs, batch_idx+1, len(dataloader), cost.item()\n",
    "        ))"
   ]
  },
  {
   "cell_type": "code",
   "execution_count": null,
   "metadata": {},
   "outputs": [],
   "source": [
    " "
   ]
  }
 ],
 "metadata": {
  "kernelspec": {
   "display_name": "Pytorch",
   "language": "python",
   "name": "pytorch"
  },
  "language_info": {
   "codemirror_mode": {
    "name": "ipython",
    "version": 3
   },
   "file_extension": ".py",
   "mimetype": "text/x-python",
   "name": "python",
   "nbconvert_exporter": "python",
   "pygments_lexer": "ipython3",
   "version": "3.7.6"
  }
 },
 "nbformat": 4,
 "nbformat_minor": 4
}
