{
 "cells": [
  {
   "cell_type": "markdown",
   "metadata": {},
   "source": [
    "## Restricted Boltzmann Machine\n",
    " - Restricted    ==> No connections within a layer || But among different layers fully connected\n",
    " - KL Divergence ==> Compare actual to recreation\n",
    " \n",
    " \n",
    " ### How can we use RBM to initialize weights?\n",
    "  - Apply the RBM idea on adjacent two layers as a pre=training step\n",
    "  - Continue the first process to all layers\n",
    "  - This will set weights\n"
   ]
  },
  {
   "cell_type": "markdown",
   "metadata": {},
   "source": [
    "## Xavier / He Initialization\n",
    " - <span style=\"color:red\"><strong>No need to use complicated RBM for weight initializations</strong></span>\n",
    " - Simple methods are enough\n",
    "   - Xavier Init: [\"Understanding the difficulty of training deep feedforward neural networks\"](http://proceedings.mlr.press/v9/glorot10a/glorot10a.pdf)\n",
    "       - Normal Init\n",
    "           - $$W ~ N(0, Var(W))|_{Mean value = 0 || Standard Deviation = W}$$\n",
    "           - $$Var(W) = \\sqrt{\\frac{2}{(n_i + n_o)}}$$\n",
    "       - Uniform Init\n",
    "           - $$W ~ U(-\\sqrt{\\frac{6}{(n_i + n_o)}} + \\sqrt{\\frac{6}{(n_i + n_o)}})$$\n",
    "                \n",
    "   - He Init    : [\"Delving Deep into Rectifiers: Surpassing Human-Level Performance on ImageNet Classification\"](https://arxiv.org/abs/1502.01852)\n",
    "       - Normal Init\n",
    "           - $$W ~ N(0, Var(W))|_{Mean value = 0 || Standard Deviation = W}$$\n",
    "           - $$Var(W) = \\sqrt{\\frac{2}{n_i}}$$\n",
    "       - Uniform Init\n",
    "           - $$W ~ U(-\\sqrt{\\frac{6}{n_i}} + \\sqrt{\\frac{6}{n_i}})$$"
   ]
  },
  {
   "cell_type": "code",
   "execution_count": 1,
   "metadata": {},
   "outputs": [],
   "source": [
    "import torch\n",
    "import torch.nn as nn\n",
    "import torch.nn.functional as F\n",
    "import torchvision.datasets as dsets\n",
    "import torchvision.transforms as transforms\n",
    "import random\n",
    "\n",
    "from IPython.display import clear_output\n",
    "from matplotlib import pyplot as plt"
   ]
  },
  {
   "cell_type": "code",
   "execution_count": 2,
   "metadata": {},
   "outputs": [
    {
     "name": "stdout",
     "output_type": "stream",
     "text": [
      "GPU Name:GeForce RTX 2080 SUPER\n",
      "GPU Capability: (Major: 7, Minor: 5)\n"
     ]
    }
   ],
   "source": [
    "device = 'cuda' if torch.cuda.is_available() else 'cpu'\n",
    "\n",
    "random.seed(777)\n",
    "torch.manual_seed(777)\n",
    "if device == 'cuda':\n",
    "    torch.cuda.device(0)\n",
    "    torch.cuda.manual_seed_all(777)\n",
    "    \n",
    "    gpu = torch.cuda.get_device_properties(0)\n",
    "    print(\"GPU Name:{}\\nGPU Capability: (Major: {}, Minor: {})\".format(\n",
    "        gpu.name, gpu.major, gpu.minor\n",
    "    ))"
   ]
  },
  {
   "cell_type": "code",
   "execution_count": 3,
   "metadata": {},
   "outputs": [],
   "source": [
    "learning_rate = 0.001\n",
    "training_epoch = 15\n",
    "batch_size = 100"
   ]
  },
  {
   "cell_type": "code",
   "execution_count": 4,
   "metadata": {},
   "outputs": [],
   "source": [
    "mnist_train = dsets.MNIST(root='MNIST_data/',\n",
    "                          train=True, \n",
    "                          transform=transforms.ToTensor(), \n",
    "                          download=True)\n",
    "\n",
    "mnist_test = dsets.MNIST(root='MNIST_data/',\n",
    "                          train=False, \n",
    "                          transform=transforms.ToTensor(), \n",
    "                          download=True)"
   ]
  },
  {
   "cell_type": "code",
   "execution_count": 5,
   "metadata": {},
   "outputs": [],
   "source": [
    "from torch.utils.data import DataLoader\n",
    "\n",
    "data_loader = DataLoader(dataset=mnist_train,\n",
    "                         batch_size=batch_size,\n",
    "                         shuffle=True,\n",
    "                         drop_last=True)"
   ]
  },
  {
   "cell_type": "code",
   "execution_count": 6,
   "metadata": {},
   "outputs": [],
   "source": [
    "class Model(nn.Module):\n",
    "    def __init__(self):\n",
    "        super().__init__()\n",
    "        self.linear1 = nn.Linear(784, 512, bias=True).to(device)\n",
    "        self.linear2 = nn.Linear(512, 512, bias=True).to(device)\n",
    "        self.linear3 = nn.Linear(512, 512, bias=True).to(device)\n",
    "        self.linear4 = nn.Linear(512, 512, bias=True).to(device)\n",
    "        self.linear5 = nn.Linear(512, 10, bias=True).to(device)\n",
    "        self.relu    = nn.ReLU()\n",
    "        \n",
    "        nn.init.xavier_uniform_(self.linear1.weight)\n",
    "        nn.init.xavier_uniform_(self.linear2.weight)\n",
    "        nn.init.xavier_uniform_(self.linear3.weight)\n",
    "        nn.init.xavier_uniform_(self.linear4.weight)\n",
    "        nn.init.xavier_uniform_(self.linear5.weight)\n",
    "        \n",
    "    def forward(self, x):\n",
    "        x = self.linear1(x)\n",
    "        x = self.relu(x)\n",
    "        x = self.linear2(x)\n",
    "        x = self.relu(x)\n",
    "        x = self.linear3(x)\n",
    "        x = self.relu(x)\n",
    "        x = self.linear4(x)\n",
    "        x = self.relu(x)\n",
    "        x = self.linear5(x)\n",
    "        \n",
    "        return x"
   ]
  },
  {
   "cell_type": "code",
   "execution_count": 7,
   "metadata": {},
   "outputs": [],
   "source": [
    "model = Model()"
   ]
  },
  {
   "cell_type": "code",
   "execution_count": 8,
   "metadata": {},
   "outputs": [],
   "source": [
    "criterion = nn.CrossEntropyLoss().to(device)\n",
    "optimizer = torch.optim.Adam(model.parameters(), lr=learning_rate)"
   ]
  },
  {
   "cell_type": "code",
   "execution_count": 9,
   "metadata": {},
   "outputs": [
    {
     "name": "stdout",
     "output_type": "stream",
     "text": [
      "Epoch: 15/15 Cost: 0.013473780\n",
      "Learning Finished\n"
     ]
    }
   ],
   "source": [
    "avg_costs = []\n",
    "total_batch = len(data_loader)\n",
    "\n",
    "for epoch in range(training_epoch+1):\n",
    "    avg_cost = 0\n",
    "    \n",
    "    for batch_num, samples in enumerate(data_loader):\n",
    "        x, y = samples\n",
    "        \n",
    "        x = x.view(-1, 28 * 28).to(device)\n",
    "        y = y.to(device)\n",
    "        \n",
    "        hypothesis = model(x)\n",
    "        cost = criterion(hypothesis, y)\n",
    "        \n",
    "        optimizer.zero_grad()\n",
    "        cost.backward()\n",
    "        optimizer.step()\n",
    "        avg_cost += cost / total_batch\n",
    "        \n",
    "    clear_output(wait=True)\n",
    "    avg_costs.append(avg_cost)\n",
    "    print(\"Epoch: {:2d}/{} Cost: {:.9f}\".format(\n",
    "        epoch, training_epoch, avg_cost.cpu().item()\n",
    "    ))\n",
    "print(\"Learning Finished\")"
   ]
  },
  {
   "cell_type": "code",
   "execution_count": 13,
   "metadata": {},
   "outputs": [
    {
     "data": {
      "image/png": "[encoded data removed]",
      "text/plain": [
       "<Figure size 720x1080 with 1 Axes>"
      ]
     },
     "metadata": {
      "needs_background": "light"
     },
     "output_type": "display_data"
    }
   ],
   "source": [
    "import numpy as np\n",
    "\n",
    "plt.figure(figsize=(10, 15))\n",
    "plt.plot(np.arange(16), avg_costs, color='red', linestyle='dashed')\n",
    "plt.show()"
   ]
  },
  {
   "cell_type": "code",
   "execution_count": 14,
   "metadata": {},
   "outputs": [
    {
     "name": "stdout",
     "output_type": "stream",
     "text": [
      "Accuracy: 0.9799000024795532\n",
      "Label:  8\n",
      "Prediction:  8\n"
     ]
    },
    {
     "name": "stderr",
     "output_type": "stream",
     "text": [
      "C:\\Users\\admin\\workspace\\Pytorch\\lib\\site-packages\\torchvision\\datasets\\mnist.py:60: UserWarning: test_data has been renamed data\n",
      "  warnings.warn(\"test_data has been renamed data\")\n",
      "C:\\Users\\admin\\workspace\\Pytorch\\lib\\site-packages\\torchvision\\datasets\\mnist.py:50: UserWarning: test_labels has been renamed targets\n",
      "  warnings.warn(\"test_labels has been renamed targets\")\n"
     ]
    }
   ],
   "source": [
    "with torch.no_grad():\n",
    "    X_test = mnist_test.test_data.view(-1, 28 * 28).float().to(device)\n",
    "    Y_test = mnist_test.test_labels.to(device)\n",
    "\n",
    "    prediction = model(X_test)\n",
    "    correct_prediction = torch.argmax(prediction, 1) == Y_test\n",
    "    accuracy = correct_prediction.float().mean()\n",
    "    print('Accuracy:', accuracy.item())\n",
    "\n",
    "    # Get one and predict\n",
    "    r = random.randint(0, len(mnist_test) - 1)\n",
    "    X_single_data = mnist_test.test_data[r:r + 1].view(-1, 28 * 28).float().to(device)\n",
    "    Y_single_data = mnist_test.test_labels[r:r + 1].to(device)\n",
    "\n",
    "    print('Label: ', Y_single_data.item())\n",
    "    single_prediction = model(X_single_data)\n",
    "    print('Prediction: ', torch.argmax(single_prediction, 1).item())"
   ]
  },
  {
   "cell_type": "code",
   "execution_count": null,
   "metadata": {},
   "outputs": [],
   "source": []
  }
 ],
 "metadata": {
  "kernelspec": {
   "display_name": "Pytorch",
   "language": "python",
   "name": "pytorch"
  },
  "language_info": {
   "codemirror_mode": {
    "name": "ipython",
    "version": 3
   },
   "file_extension": ".py",
   "mimetype": "text/x-python",
   "name": "python",
   "nbconvert_exporter": "python",
   "pygments_lexer": "ipython3",
   "version": "3.7.4"
  }
 },
 "nbformat": 4,
 "nbformat_minor": 4
}
