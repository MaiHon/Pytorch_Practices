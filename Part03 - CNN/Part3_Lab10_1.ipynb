{
 "cells": [
  {
   "cell_type": "markdown",
   "metadata": {},
   "source": [
    "![Convolution](./Convolution.png)\n",
    "\n",
    "### torch.nn.Conv2d(*params)\n",
    "#### >> params\n",
    " - in_channels, out_channels, kernel_size, \n",
    " - stride=1, padding=0, dilation=1, groups=1, bias=True, padding_mode='zeros\n",
    "\n",
    "$$(N, C_i, H, W) => (N, C_o, H_o, W_o)$$\n",
    "$$out(N_i, C_{outj}) = bias(C_{outj} + \\sum_{k=0}^{C_i-1} weight(C_{outj}, {k}) \\star input(N_i, {k})$$\n",
    " \n",
    "  - <span style='color:red'><strong>the star means the valid 2D cross-correlation operation</strong></span>\n",
    "  - stride: Controls the stride for the operation, a single number or a tuple\n",
    "  - padding: Controls the amout of implicit zero-padding on both sides for padding number of points for each dimension\n",
    "  - dilation: Controls the spacing between the kernel points; also kwown as the atrous\n",
    "  - groups: Controls the connections between inputs and outputs\n",
    "  \n",
    "  \n",
    "  - <span style='color:blue'>input type: torch.Tensor</span>\n",
    "  - <span style='color:red'><strong>output shape calculation</strong></span>\n",
    "    $${Output size = \\frac{Input - (Kernel - 1) * Dilation  + (2 * Padding) - 1}{Stride} + 1}$$"
   ]
  },
  {
   "cell_type": "code",
   "execution_count": 1,
   "metadata": {},
   "outputs": [
    {
     "name": "stdout",
     "output_type": "stream",
     "text": [
      "Test Convolution operation Conv2d(1, 1, kernel_size=(11, 11), stride=(4, 4))\n"
     ]
    }
   ],
   "source": [
    "# testing torch.nn.Conv2d function\n",
    "import torch\n",
    "\n",
    "# in & output channels are both 1, and filter size is (11, 11), stride = 4, padding = 0\n",
    "conv = torch.nn.Conv2d(1, 1, 11, stride=4, padding=0)\n",
    "print(\"Test Convolution operation\", conv)"
   ]
  },
  {
   "cell_type": "code",
   "execution_count": 2,
   "metadata": {},
   "outputs": [],
   "source": [
    "# define a Tensor for testing\n",
    "inputs  = torch.Tensor(1, 1, 227, 227)  # (Batch Size, Channels, Height, Width)\n",
    "outputs = conv(inputs)\n",
    "\n",
    "assert outputs.detach().cpu().numpy().shape == (1, 1, 55, 55)"
   ]
  },
  {
   "cell_type": "markdown",
   "metadata": {},
   "source": [
    "![Pooling](./Pooling.png)\n",
    "\n",
    "### torch.nn.MaxPool2d(*params)\n",
    "#### >> params\n",
    " - kernel_size, stride=None, \n",
    " - padding=0, dilation=2, return_indicies=False, ceil_mode=False\n",
    "\n",
    "$$(N, C_i, H, W) => (N, C_o, H_o, W_o)$$\n",
    "$$\\begin{align} out(N_i, C_{j}, h, w) = max_{m=0, \\cdot\\cdot\\cdot,kH-1} \\space max_{n=0, \\cdot\\cdot\\cdot,kW-1} \\\\\n",
    "input(N_{i}, C_{j}, stride[0] * h + m,\\\\\n",
    "stride[1] * w + n)\\end{align}$$\n",
    "  \n",
    "  - kernel_size: The size of the window to take a max over\n",
    "  - stride: The stride of the window, <span style='color:green'>default value is kernel_size</span>\n",
    "  - padding: Implicit zero padding to be added on both sides\n",
    "  - dilation: A Parameter that controls the stride of elements in the window\n",
    "  - return_indices: Userful for MaxUnpool2d, if <span style='color:green'><strong>True</strong></span> will return the max indices along with the outputs\n",
    "  - ceil_mode: when it's <span style='color:green'><strong>True</strong></span> use ceil instead of floor to compute the output shape\n",
    "  \n",
    "  - <span style='color:blue'>input type: torch.Tensor</span>\n",
    "  - <span style='color:red'><strong>output shape calculation</strong></span>\n",
    "    $${Output size = \\frac{Input + (2 * Padding) - Dilation * (Kernel - 1) - 1}{Stride} + 1}$$"
   ]
  },
  {
   "cell_type": "markdown",
   "metadata": {},
   "source": [
    "### [Good Article for Convolution!](https://towardsdatascience.com/a-basic-introduction-to-separable-convolutions-b99ec3102728)\n",
    " - Depth-wise & Point-wise Convolution\n",
    " - Simple Convolution & Spatial Separable Convolution"
   ]
  },
  {
   "cell_type": "code",
   "execution_count": null,
   "metadata": {},
   "outputs": [],
   "source": []
  }
 ],
 "metadata": {
  "kernelspec": {
   "display_name": "Pytorch",
   "language": "python",
   "name": "pytorch"
  },
  "language_info": {
   "codemirror_mode": {
    "name": "ipython",
    "version": 3
   },
   "file_extension": ".py",
   "mimetype": "text/x-python",
   "name": "python",
   "nbconvert_exporter": "python",
   "pygments_lexer": "ipython3",
   "version": "3.7.6"
  }
 },
 "nbformat": 4,
 "nbformat_minor": 4
}
