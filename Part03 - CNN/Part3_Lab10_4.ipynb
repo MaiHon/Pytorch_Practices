{
 "cells": [
  {
   "cell_type": "code",
   "execution_count": 1,
   "metadata": {},
   "outputs": [],
   "source": [
    "import torch\n",
    "import torch.nn as nn\n",
    "import torch.nn.functional as F\n",
    "\n",
    "import torch.optim as optim\n",
    "from torch.utils.data import DataLoader\n",
    "from torchsummary import summary\n",
    "\n",
    "import torchvision\n",
    "import torchvision.transforms as transforms"
   ]
  },
  {
   "cell_type": "code",
   "execution_count": 2,
   "metadata": {},
   "outputs": [],
   "source": [
    "device = 'cuda' if torch.cuda.is_available() else 'cpu'\n",
    "\n",
    "torch.manual_seed(777)\n",
    "if device =='cuda':\n",
    "    torch.cuda.manual_seed_all(777)"
   ]
  },
  {
   "cell_type": "code",
   "execution_count": 3,
   "metadata": {},
   "outputs": [],
   "source": [
    "trans = transforms.Compose([\n",
    "    transforms.ToTensor()\n",
    "])\n",
    "\n",
    "train_data = torchvision.datasets.ImageFolder(root='./custom_data/train_data', transform=trans)"
   ]
  },
  {
   "cell_type": "code",
   "execution_count": 4,
   "metadata": {},
   "outputs": [],
   "source": [
    "data_loader = DataLoader(dataset = train_data, batch_size = 8, shuffle = True, num_workers=2)"
   ]
  },
  {
   "cell_type": "code",
   "execution_count": 5,
   "metadata": {},
   "outputs": [],
   "source": [
    "class CNN(nn.Module):\n",
    "    def __init__(self):\n",
    "        super(CNN, self).__init__()\n",
    "        self.layer1 = nn.Sequential(\n",
    "            nn.Conv2d(3,6,5),\n",
    "            nn.ReLU(),\n",
    "            nn.MaxPool2d(2),\n",
    "        )\n",
    "        self.layer2 = nn.Sequential(\n",
    "            nn.Conv2d(6,16,5),\n",
    "            nn.ReLU(),\n",
    "            nn.MaxPool2d(2),\n",
    "        )\n",
    "        self.layer3 = nn.Sequential(\n",
    "            nn.Linear(16*13*29, 120),\n",
    "            nn.ReLU(),\n",
    "            nn.Linear(120,2)\n",
    "        )\n",
    "        \n",
    "    def forward(self, x):\n",
    "        out = self.layer1(x)\n",
    "        out = self.layer2(out)\n",
    "        out = out.view(out.shape[0], -1)\n",
    "        out = self.layer3(out)\n",
    "        return out"
   ]
  },
  {
   "cell_type": "code",
   "execution_count": 6,
   "metadata": {},
   "outputs": [
    {
     "name": "stdout",
     "output_type": "stream",
     "text": [
      "-------------------------------------------------------------------------------------------------------------------\n",
      "        Layer (type)    Kernel Shape          Input Shape              Output Shape         Param #     Multi Ops #\n",
      "===================================================================================================================\n",
      "            Conv2d-1    [3, 6, 5, 5]      [2, 3, 64, 128]           [2, 6, 60, 124]       3,348,006       3,348,000\n",
      "              ReLU-2               -      [2, 6, 60, 124]           [2, 6, 60, 124]               0               0\n",
      "         MaxPool2d-3               -      [2, 6, 60, 124]            [2, 6, 30, 62]               0               0\n",
      "            Conv2d-4   [6, 16, 5, 5]       [2, 6, 30, 62]           [2, 16, 26, 58]       3,619,216       3,619,200\n",
      "              ReLU-5               -      [2, 16, 26, 58]           [2, 16, 26, 58]               0               0\n",
      "         MaxPool2d-6               -      [2, 16, 26, 58]           [2, 16, 13, 29]               0               0\n",
      "            Linear-7     [6032, 120]            [2, 6032]                  [2, 120]         723,960         723,840\n",
      "              ReLU-8               -             [2, 120]                  [2, 120]               0               0\n",
      "            Linear-9        [120, 2]             [2, 120]                    [2, 2]             242             240\n",
      "===================================================================================================================\n",
      "Total params: 7,691,424\n",
      "Trainable params: 7,691,424\n",
      "Non-trainable params: 0\n",
      "Multi-Adds params: 7,691,280\n",
      "-------------------------------------------------------------------------------------------------------------------\n",
      "Input size (MB): 0.19\n",
      "Forward/backward pass size (MB): 2.36\n",
      "Params size (MB): 29.34\n",
      "Estimated Total Size (MB): 31.89\n",
      "-------------------------------------------------------------------------------------------------------------------\n",
      "\n"
     ]
    },
    {
     "data": {
      "text/plain": [
       "(7691424, 7691424)"
      ]
     },
     "execution_count": 6,
     "metadata": {},
     "output_type": "execute_result"
    }
   ],
   "source": [
    "net = CNN().to(device)\n",
    "summary(net, (3, 64, 128), device=device)"
   ]
  },
  {
   "cell_type": "code",
   "execution_count": 7,
   "metadata": {},
   "outputs": [],
   "source": [
    "optimizer = optim.Adam(net.parameters(), lr=0.00005)\n",
    "loss_func = nn.CrossEntropyLoss().to(device)"
   ]
  },
  {
   "cell_type": "code",
   "execution_count": 13,
   "metadata": {},
   "outputs": [],
   "source": [
    "total_batch = len(data_loader)\n",
    "\n",
    "def train():\n",
    "    epochs = 7\n",
    "    for epoch in range(epochs):\n",
    "        avg_cost = 0.0\n",
    "        for num, data in enumerate(data_loader):\n",
    "            imgs, labels = data\n",
    "            imgs = imgs.to(device)\n",
    "            labels = labels.to(device)\n",
    "            optimizer.zero_grad()\n",
    "            out = net(imgs)\n",
    "            loss = loss_func(out, labels)\n",
    "            loss.backward()\n",
    "            optimizer.step()\n",
    "\n",
    "            avg_cost += loss / total_batch\n",
    "\n",
    "        print('[Epoch:{}] cost = {}'.format(epoch+1, avg_cost))\n",
    "    print('Learning Finished!')"
   ]
  },
  {
   "cell_type": "code",
   "execution_count": 14,
   "metadata": {},
   "outputs": [
    {
     "name": "stdout",
     "output_type": "stream",
     "text": [
      "[Epoch:1] cost = 0.005010341294109821\n",
      "[Epoch:2] cost = 0.0037535890005528927\n",
      "[Epoch:3] cost = 0.0028771429788321257\n",
      "[Epoch:4] cost = 0.002247781725600362\n",
      "[Epoch:5] cost = 0.0018486643675714731\n",
      "[Epoch:6] cost = 0.001478617312386632\n",
      "[Epoch:7] cost = 0.0012478209100663662\n",
      "Learning Finished!\n",
      "CPU times: user 30.3 s, sys: 1.16 s, total: 31.5 s\n",
      "Wall time: 11.6 s\n"
     ]
    }
   ],
   "source": [
    "%time train()"
   ]
  },
  {
   "cell_type": "code",
   "execution_count": 9,
   "metadata": {},
   "outputs": [],
   "source": [
    "torch.save(net.state_dict(), \"./models/model.pth\")"
   ]
  },
  {
   "cell_type": "code",
   "execution_count": 10,
   "metadata": {},
   "outputs": [
    {
     "data": {
      "text/plain": [
       "<All keys matched successfully>"
      ]
     },
     "execution_count": 10,
     "metadata": {},
     "output_type": "execute_result"
    }
   ],
   "source": [
    "new_net = CNN().to(device)\n",
    "new_net.load_state_dict(torch.load('./models/model.pth'))"
   ]
  },
  {
   "cell_type": "code",
   "execution_count": 11,
   "metadata": {},
   "outputs": [],
   "source": [
    "trans=torchvision.transforms.Compose([\n",
    "    transforms.Resize((64,128)),\n",
    "    transforms.ToTensor()\n",
    "])\n",
    "test_data = torchvision.datasets.ImageFolder(root='./custom_data/test_data', transform=trans)"
   ]
  },
  {
   "cell_type": "code",
   "execution_count": 15,
   "metadata": {},
   "outputs": [],
   "source": [
    "test_set = DataLoader(dataset = test_data, batch_size = len(test_data))\n",
    "\n",
    "def test():\n",
    "    with torch.no_grad():\n",
    "        for num, data in enumerate(test_set):\n",
    "            imgs, label = data\n",
    "            imgs = imgs.to(device)\n",
    "            label = label.to(device)\n",
    "\n",
    "            prediction = net(imgs)\n",
    "\n",
    "            correct_prediction = torch.argmax(prediction, 1) == label\n",
    "\n",
    "            accuracy = correct_prediction.float().mean()\n",
    "            print('Accuracy:', accuracy.item())"
   ]
  },
  {
   "cell_type": "code",
   "execution_count": 16,
   "metadata": {},
   "outputs": [
    {
     "name": "stdout",
     "output_type": "stream",
     "text": [
      "Accuracy: 1.0\n",
      "CPU times: user 2.48 s, sys: 116 ms, total: 2.6 s\n",
      "Wall time: 2.63 s\n"
     ]
    }
   ],
   "source": [
    "%time test()"
   ]
  },
  {
   "cell_type": "code",
   "execution_count": null,
   "metadata": {},
   "outputs": [],
   "source": []
  }
 ],
 "metadata": {
  "kernelspec": {
   "display_name": "Pytorch",
   "language": "python",
   "name": "pytorch"
  },
  "language_info": {
   "codemirror_mode": {
    "name": "ipython",
    "version": 3
   },
   "file_extension": ".py",
   "mimetype": "text/x-python",
   "name": "python",
   "nbconvert_exporter": "python",
   "pygments_lexer": "ipython3",
   "version": "3.7.6"
  }
 },
 "nbformat": 4,
 "nbformat_minor": 4
}
