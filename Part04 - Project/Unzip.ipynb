{
 "cells": [
  {
   "cell_type": "code",
   "execution_count": 1,
   "metadata": {},
   "outputs": [],
   "source": [
    "import zipfile\n",
    "from pathlib import Path"
   ]
  },
  {
   "cell_type": "code",
   "execution_count": 2,
   "metadata": {},
   "outputs": [],
   "source": [
    "current_path = Path().absolute()"
   ]
  },
  {
   "cell_type": "code",
   "execution_count": 3,
   "metadata": {},
   "outputs": [
    {
     "name": "stdout",
     "output_type": "stream",
     "text": [
      "현재 디렉토리 위치: C:\\Users\\admin\\workspace\\workspace\\H\\Pytorch\\Part04 - Project\n"
     ]
    }
   ],
   "source": [
    "file_path = current_path / \"03_rnn_pt.zip\"\n",
    "data_path = current_path / \"03_rnn_pt\"\n",
    "\n",
    "print(\"현재 디렉토리 위치: {}\".format(current_path))"
   ]
  },
  {
   "cell_type": "code",
   "execution_count": 4,
   "metadata": {},
   "outputs": [
    {
     "name": "stdout",
     "output_type": "stream",
     "text": [
      "이미 폴더에 압축이 풀려있습니다. 확인해보세요!\n"
     ]
    }
   ],
   "source": [
    "if data_path.exists():\n",
    "    print(\"이미 폴더에 압축이 풀려있습니다. 확인해보세요!\")\n",
    "else:\n",
    "    with zipfile.ZipFile(str(file_path), \"r\") as zip_ref:\n",
    "        zip_ref.extractall(str(data_path))\n",
    "    print(\"Done!\")"
   ]
  },
  {
   "cell_type": "code",
   "execution_count": null,
   "metadata": {},
   "outputs": [],
   "source": []
  }
 ],
 "metadata": {
  "kernelspec": {
   "display_name": "Pytorch",
   "language": "python",
   "name": "pytorch"
  },
  "language_info": {
   "codemirror_mode": {
    "name": "ipython",
    "version": 3
   },
   "file_extension": ".py",
   "mimetype": "text/x-python",
   "name": "python",
   "nbconvert_exporter": "python",
   "pygments_lexer": "ipython3",
   "version": "3.7.4"
  }
 },
 "nbformat": 4,
 "nbformat_minor": 4
}
