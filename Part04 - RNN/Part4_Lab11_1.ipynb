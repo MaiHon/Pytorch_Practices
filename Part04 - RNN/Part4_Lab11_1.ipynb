{
 "cells": [
  {
   "cell_type": "code",
   "execution_count": 1,
   "metadata": {},
   "outputs": [],
   "source": [
    "import torch\n",
    "import numpy as np"
   ]
  },
  {
   "cell_type": "code",
   "execution_count": 2,
   "metadata": {},
   "outputs": [],
   "source": [
    "input_size = 4\n",
    "hidden_size = 2"
   ]
  },
  {
   "cell_type": "code",
   "execution_count": 3,
   "metadata": {},
   "outputs": [],
   "source": [
    "# one-hot encodeing vector \n",
    "h = [1, 0, 0, 0]\n",
    "e = [0, 1, 0, 0]\n",
    "l = [0, 0, 1, 0]\n",
    "o = [0, 0, 0, 1]"
   ]
  },
  {
   "cell_type": "markdown",
   "metadata": {},
   "source": [
    "#### RNN \n",
    " - input's shape >> (batch, sequence_length, input_dim)\n",
    " - output's shape >> (batch, sequence_length, hidden_size)\n",
    " - input_dim ==> one-hot encoding vector size\n",
    " - sequence_length ==> the sequence length"
   ]
  },
  {
   "cell_type": "code",
   "execution_count": 4,
   "metadata": {},
   "outputs": [
    {
     "name": "stdout",
     "output_type": "stream",
     "text": [
      "(3, 5, 4)\n"
     ]
    }
   ],
   "source": [
    "input_data_np = np.array([[h, e, l, l, o],\n",
    "                          [e, o, l, l, o],\n",
    "                          [l, l, e, e, l]], dtype=np.float32)\n",
    "print(input_data_np.shape)"
   ]
  },
  {
   "cell_type": "code",
   "execution_count": 5,
   "metadata": {},
   "outputs": [],
   "source": [
    "input_data = torch.Tensor(input_data_np)"
   ]
  },
  {
   "cell_type": "code",
   "execution_count": 6,
   "metadata": {},
   "outputs": [],
   "source": [
    "rnn = torch.nn.RNN(input_size, hidden_size)\n",
    "outputs, _status = rnn(input_data)"
   ]
  },
  {
   "cell_type": "code",
   "execution_count": 7,
   "metadata": {},
   "outputs": [
    {
     "name": "stdout",
     "output_type": "stream",
     "text": [
      "tensor([[[ 0.3114, -0.4498],\n",
      "         [-0.1306, -0.8071],\n",
      "         [ 0.1107, -0.5192],\n",
      "         [ 0.1107, -0.5192],\n",
      "         [ 0.3223,  0.0919]],\n",
      "\n",
      "        [[-0.1906, -0.9102],\n",
      "         [ 0.3781, -0.1702],\n",
      "         [ 0.1025, -0.7057],\n",
      "         [ 0.1025, -0.7057],\n",
      "         [ 0.2442, -0.0881]],\n",
      "\n",
      "        [[ 0.1914, -0.6876],\n",
      "         [ 0.0221, -0.7206],\n",
      "         [-0.1297, -0.9048],\n",
      "         [-0.1297, -0.9048],\n",
      "         [ 0.0527, -0.6534]]], grad_fn=<StackBackward>)\n",
      "tensor([[[ 0.1914, -0.6876],\n",
      "         [ 0.0221, -0.7206],\n",
      "         [-0.1297, -0.9048],\n",
      "         [-0.1297, -0.9048],\n",
      "         [ 0.0527, -0.6534]]], grad_fn=<StackBackward>)\n"
     ]
    }
   ],
   "source": [
    "print(outputs)\n",
    "print(_status)"
   ]
  },
  {
   "cell_type": "code",
   "execution_count": 8,
   "metadata": {},
   "outputs": [
    {
     "name": "stdout",
     "output_type": "stream",
     "text": [
      "torch.Size([3, 5, 2])\n",
      "torch.Size([1, 5, 2])\n"
     ]
    }
   ],
   "source": [
    "print(outputs.shape)\n",
    "print(_status.shape)"
   ]
  },
  {
   "cell_type": "code",
   "execution_count": null,
   "metadata": {},
   "outputs": [],
   "source": []
  }
 ],
 "metadata": {
  "kernelspec": {
   "display_name": "Pytorch",
   "language": "python",
   "name": "pytorch"
  },
  "language_info": {
   "codemirror_mode": {
    "name": "ipython",
    "version": 3
   },
   "file_extension": ".py",
   "mimetype": "text/x-python",
   "name": "python",
   "nbconvert_exporter": "python",
   "pygments_lexer": "ipython3",
   "version": "3.7.6"
  }
 },
 "nbformat": 4,
 "nbformat_minor": 4
}
